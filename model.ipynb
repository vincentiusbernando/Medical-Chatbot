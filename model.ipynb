{
  "nbformat": 4,
  "nbformat_minor": 0,
  "metadata": {
    "colab": {
      "provenance": []
    },
    "kernelspec": {
      "name": "python3",
      "display_name": "Python 3"
    },
    "language_info": {
      "name": "python"
    }
  },
  "cells": [
    {
      "cell_type": "code",
      "source": [
        "!pip install googletrans==4.0.0-rc1\n"
      ],
      "metadata": {
        "colab": {
          "base_uri": "https://localhost:8080/"
        },
        "id": "jxCHBB9GLI9f",
        "outputId": "dbb7757c-e13a-4307-b2a6-76b9bc311bd5"
      },
      "execution_count": 1,
      "outputs": [
        {
          "output_type": "stream",
          "name": "stdout",
          "text": [
            "Requirement already satisfied: googletrans==4.0.0-rc1 in /usr/local/lib/python3.10/dist-packages (4.0.0rc1)\n",
            "Requirement already satisfied: httpx==0.13.3 in /usr/local/lib/python3.10/dist-packages (from googletrans==4.0.0-rc1) (0.13.3)\n",
            "Requirement already satisfied: certifi in /usr/local/lib/python3.10/dist-packages (from httpx==0.13.3->googletrans==4.0.0-rc1) (2024.6.2)\n",
            "Requirement already satisfied: hstspreload in /usr/local/lib/python3.10/dist-packages (from httpx==0.13.3->googletrans==4.0.0-rc1) (2024.6.1)\n",
            "Requirement already satisfied: sniffio in /usr/local/lib/python3.10/dist-packages (from httpx==0.13.3->googletrans==4.0.0-rc1) (1.3.1)\n",
            "Requirement already satisfied: chardet==3.* in /usr/local/lib/python3.10/dist-packages (from httpx==0.13.3->googletrans==4.0.0-rc1) (3.0.4)\n",
            "Requirement already satisfied: idna==2.* in /usr/local/lib/python3.10/dist-packages (from httpx==0.13.3->googletrans==4.0.0-rc1) (2.10)\n",
            "Requirement already satisfied: rfc3986<2,>=1.3 in /usr/local/lib/python3.10/dist-packages (from httpx==0.13.3->googletrans==4.0.0-rc1) (1.5.0)\n",
            "Requirement already satisfied: httpcore==0.9.* in /usr/local/lib/python3.10/dist-packages (from httpx==0.13.3->googletrans==4.0.0-rc1) (0.9.1)\n",
            "Requirement already satisfied: h11<0.10,>=0.8 in /usr/local/lib/python3.10/dist-packages (from httpcore==0.9.*->httpx==0.13.3->googletrans==4.0.0-rc1) (0.9.0)\n",
            "Requirement already satisfied: h2==3.* in /usr/local/lib/python3.10/dist-packages (from httpcore==0.9.*->httpx==0.13.3->googletrans==4.0.0-rc1) (3.2.0)\n",
            "Requirement already satisfied: hyperframe<6,>=5.2.0 in /usr/local/lib/python3.10/dist-packages (from h2==3.*->httpcore==0.9.*->httpx==0.13.3->googletrans==4.0.0-rc1) (5.2.0)\n",
            "Requirement already satisfied: hpack<4,>=3.0 in /usr/local/lib/python3.10/dist-packages (from h2==3.*->httpcore==0.9.*->httpx==0.13.3->googletrans==4.0.0-rc1) (3.0.0)\n"
          ]
        }
      ]
    },
    {
      "cell_type": "code",
      "execution_count": null,
      "metadata": {
        "id": "1qn2753iGih9"
      },
      "outputs": [],
      "source": [
        "from googletrans import Translator\n",
        "import json\n",
        "questions_answers = json.load(open('data.json'))\n",
        "\n",
        "def translate_text(text, target_lang='id'):\n",
        "    translator = Translator()\n",
        "    translation = translator.translate(text, src='en', dest=target_lang)\n",
        "    return translation.text\n",
        "\n",
        "def translate_questions_answers(qa_list):\n",
        "    translated_qa_list = []\n",
        "    for qa in qa_list:\n",
        "        translated_qa = {\n",
        "            \"question\": translate_text(qa[\"question\"]),\n",
        "            \"answer\": translate_text(qa[\"answer\"])\n",
        "        }\n",
        "        translated_qa_list.append(translated_qa)\n",
        "    return translated_qa_list\n",
        "\n",
        "translated_questions_answers = translate_questions_answers(questions_answers)"
      ]
    },
    {
      "cell_type": "code",
      "source": [
        "import csv\n",
        "csv_filename = \"translated_questions_answers.csv\"\n",
        "csv_fields = [\"question\", \"answer\"]\n",
        "\n",
        "with open(csv_filename, 'w', newline='', encoding='utf-8') as csvfile:\n",
        "    writer = csv.DictWriter(csvfile, fieldnames=csv_fields)\n",
        "    writer.writeheader()\n",
        "    for qa in translated_questions_answers:\n",
        "        writer.writerow(qa)\n",
        "\n",
        "print(f\"CSV file '{csv_filename}' has been successfully created.\")"
      ],
      "metadata": {
        "id": "LDgMWqTUH1XH"
      },
      "execution_count": null,
      "outputs": []
    }
  ]
}